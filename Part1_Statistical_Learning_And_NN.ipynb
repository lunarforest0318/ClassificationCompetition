{
 "cells": [
  {
   "cell_type": "markdown",
   "metadata": {
    "id": "NXSRfleA0Ojf"
   },
   "source": [
    "# CS 410 Final Project - Text Classification Competition"
   ]
  },
  {
   "cell_type": "markdown",
   "metadata": {
    "id": "eokmpRwk0Ojl"
   },
   "source": [
    "## Zhenchen Yu (zy23)"
   ]
  },
  {
   "cell_type": "markdown",
   "metadata": {
    "id": "lK3-PCMl0nIV"
   },
   "source": [
    "### Colab Setup\n",
    "#### Skip this part if running at local machine"
   ]
  },
  {
   "cell_type": "code",
   "execution_count": 1,
   "metadata": {
    "colab": {
     "base_uri": "https://localhost:8080/"
    },
    "id": "YMDpkbCS0n0G",
    "outputId": "5cd8c1ed-26d1-4ff2-dc8d-174645a1f71c"
   },
   "outputs": [],
   "source": [
    "#from google.colab import drive\n",
    "#drive.mount('/content/gdrive')"
   ]
  },
  {
   "cell_type": "code",
   "execution_count": 2,
   "metadata": {
    "colab": {
     "base_uri": "https://localhost:8080/"
    },
    "id": "6KPUeaqF1JRy",
    "outputId": "b6915b40-e0fd-4829-d441-0c9b431d24df"
   },
   "outputs": [],
   "source": [
    "#Check if the mount is successful\n",
    "#import os\n",
    "#os.chdir('/content/gdrive/My Drive/Deep Learning/CS410_Final')\n",
    "#!ls"
   ]
  },
  {
   "cell_type": "markdown",
   "metadata": {
    "id": "5DVgZEW40Ojm"
   },
   "source": [
    "# Part 1: Data Prep"
   ]
  },
  {
   "cell_type": "markdown",
   "metadata": {
    "id": "vFZYLf8Y0Ojn"
   },
   "source": [
    "## Load Data"
   ]
  },
  {
   "cell_type": "code",
   "execution_count": 3,
   "metadata": {
    "id": "_JJQzkbR0Ojo"
   },
   "outputs": [
    {
     "name": "stderr",
     "output_type": "stream",
     "text": [
      "Using TensorFlow backend.\n"
     ]
    }
   ],
   "source": [
    "import pandas as pd\n",
    "import numpy as np\n",
    "from sklearn.feature_extraction.text import CountVectorizer\n",
    "from sklearn.model_selection import train_test_split\n",
    "from sklearn.svm import SVC\n",
    "from sklearn.metrics import f1_score\n",
    "from sklearn.ensemble import RandomForestClassifier\n",
    "from xgboost import XGBClassifier\n",
    "from sklearn.linear_model import LogisticRegression\n",
    "import matplotlib.pyplot as plt\n",
    "import random\n",
    "import keras\n",
    "from keras.layers import Dense, Dropout, LSTM,  BatchNormalization\n",
    "from keras.layers import Activation, Flatten, Conv2D, MaxPooling2D, Conv1D, MaxPooling1D\n",
    "from keras.models import Sequential"
   ]
  },
  {
   "cell_type": "code",
   "execution_count": 4,
   "metadata": {
    "id": "qqlCTkmF0Ojt"
   },
   "outputs": [],
   "source": [
    "document_path= 'data/train.jsonl'\n",
    "def load_dataset(document_path):\n",
    "    df = pd.read_json(document_path,lines=True)\n",
    "    sentences = df.response.values\n",
    "    labels = df.label.values \n",
    "    labels = np.where(labels=='SARCASM', 1, labels) \n",
    "    labels = np.where(labels=='NOT_SARCASM', 0, labels) \n",
    "    tokenized_texts = sentences\n",
    "    return tokenized_texts,labels"
   ]
  },
  {
   "cell_type": "code",
   "execution_count": 5,
   "metadata": {
    "colab": {
     "base_uri": "https://localhost:8080/"
    },
    "id": "YTB6g1SJ0Ojx",
    "outputId": "bf9a7f7f-08ec-41e5-82b1-6396fb99dc25",
    "scrolled": true
   },
   "outputs": [
    {
     "name": "stderr",
     "output_type": "stream",
     "text": [
      "C:\\Users\\rayyu\\AppData\\Local\\Continuum\\anaconda3\\envs\\ml\\lib\\site-packages\\sklearn\\feature_extraction\\text.py:301: UserWarning: Your stop_words may be inconsistent with your preprocessing. Tokenizing the stop words generated tokens ['doesn'] not in stop_words.\n",
      "  'stop_words.' % sorted(inconsistent))\n"
     ]
    }
   ],
   "source": [
    "tokenized_texts,labels = load_dataset(document_path)\n",
    "\n",
    "#Remove stopwords\n",
    "stop_word = open(\"stopwords.txt\", \"r\")\n",
    "stop_word = stop_word.read().splitlines()    \n",
    "stop_word.append('@')\n",
    "stop_word.append('user')\n",
    "\n",
    "cv=CountVectorizer(stop_words=stop_word)\n",
    "res_mrx=cv.fit_transform(tokenized_texts)\n",
    "labels=np.asarray(labels).astype(None)\n",
    "X_train, X_test, y_train, y_test = train_test_split(res_mrx, labels, test_size=0.2, random_state=42)"
   ]
  },
  {
   "cell_type": "markdown",
   "metadata": {},
   "source": [
    "### Prepare Prediction Data"
   ]
  },
  {
   "cell_type": "code",
   "execution_count": 6,
   "metadata": {},
   "outputs": [],
   "source": [
    "test_path = 'data/test.jsonl'\n",
    "df_test = pd.read_json(test_path,lines=True)\n",
    "test_texts = df_test.response.values\n",
    "res_test=cv.transform(test_texts)\n",
    "\n",
    "#res_test is the test dataset\n",
    "#Set cnn=true for cnn model prediction\n",
    "#set rnn=true for rnn model prediction\n",
    "def make_prediction(model, cnn=False, rnn=False):    \n",
    "    if cnn==True:\n",
    "        pred = model.predict(np.array(res_test.toarray()).reshape(res_test.shape[0],res_test.shape[1],1))\n",
    "    elif rnn==True:\n",
    "        pred = model.predict(np.array(res_test.toarray()).reshape(res_test.shape[0],1,res_test.shape[1]))\n",
    "    else:\n",
    "        pred = model.predict(res_test)\n",
    "    \n",
    "    if cnn==True or rnn==True:\n",
    "        pred = np.where(pred>0.5,1,0)\n",
    "    \n",
    "    res=[]\n",
    "    for i in range(len(pred)):\n",
    "        if pred[i] == 0:\n",
    "            res.append('NOT_SARCASM')\n",
    "        else:\n",
    "            res.append('SARCASM')\n",
    "\n",
    "    twitter_id=[]\n",
    "    for i in range(1800):\n",
    "        twitter_id.append('twitter_' + str(i+1))\n",
    "\n",
    "    results = zip(twitter_id,res)\n",
    "    res2=[]\n",
    "    for i ,j in results:\n",
    "        res2.append(str(i)+','+str(j))\n",
    " \n",
    "    with open('answer.txt', 'w') as filehandle:\n",
    "        filehandle.writelines(\"%s\\n\" % place for place in res2)"
   ]
  },
  {
   "cell_type": "markdown",
   "metadata": {
    "id": "b-L9AJTY0Oj2"
   },
   "source": [
    "# Part 2: Statistical Learning Models"
   ]
  },
  {
   "cell_type": "markdown",
   "metadata": {
    "id": "80ZhY2de0Oj2"
   },
   "source": [
    "## SVM"
   ]
  },
  {
   "cell_type": "markdown",
   "metadata": {
    "id": "E_C8YM7E0Oj3"
   },
   "source": [
    "#### Linear Kernel"
   ]
  },
  {
   "cell_type": "code",
   "execution_count": 7,
   "metadata": {
    "colab": {
     "base_uri": "https://localhost:8080/"
    },
    "id": "qT8iZsa00Oj4",
    "outputId": "d12f69e0-e51a-4e1a-b30f-18051ed95096"
   },
   "outputs": [
    {
     "name": "stdout",
     "output_type": "stream",
     "text": [
      "F1 Score for Linear SVM is 0.7601809954751132\n"
     ]
    }
   ],
   "source": [
    "C_range = [0.01, 0.1, 1, 10, 100]\n",
    "best_f1, best_c = 0, 0\n",
    "for C in C_range:\n",
    "    svm_li = SVC(kernel='linear',C=C)\n",
    "    svm_li.fit(X_train, y_train)\n",
    "    y_pred = svm_li.predict(X_test)\n",
    "    if f1_score(y_test,y_pred) > best_f1:\n",
    "        best_f1 = f1_score(y_test,y_pred)\n",
    "        best_c = C\n",
    "print(\"F1 Score for Linear SVM is\", best_f1)"
   ]
  },
  {
   "cell_type": "markdown",
   "metadata": {},
   "source": [
    "#### Generate answer.txt"
   ]
  },
  {
   "cell_type": "code",
   "execution_count": 8,
   "metadata": {},
   "outputs": [],
   "source": [
    "make_prediction(svm_li)"
   ]
  },
  {
   "cell_type": "markdown",
   "metadata": {},
   "source": [
    "Final Prediction Result: \n",
    "Precision: 0.5800395256916996\n",
    "Recall:    0.6522222222222223\n",
    "F1 Score:  0.6140167364016738"
   ]
  },
  {
   "cell_type": "markdown",
   "metadata": {},
   "source": [
    "#### RBF Kernel"
   ]
  },
  {
   "cell_type": "code",
   "execution_count": 9,
   "metadata": {
    "colab": {
     "base_uri": "https://localhost:8080/"
    },
    "id": "8PPtsYSI0Oj9",
    "outputId": "55d7ccf6-ccb0-4982-f957-3bd302b4f150"
   },
   "outputs": [
    {
     "name": "stdout",
     "output_type": "stream",
     "text": [
      "F1 Score for RBF SVM is 0.7586206896551725\n"
     ]
    }
   ],
   "source": [
    "C_range = [0.01, 0.1, 1, 10, 100]\n",
    "gamma_range = [0.01, 0.1, 1, 10, 100]\n",
    "best_f1,best_c,best_gamma = 0,0,0\n",
    "for C in C_range:\n",
    "    for gamma in gamma_range:\n",
    "        svm_rbf = SVC(kernel='rbf',C=C, gamma=gamma)\n",
    "        svm_rbf.fit(X_train, y_train)\n",
    "        y_pred = svm_rbf.predict(X_test)\n",
    "        if f1_score(y_test,y_pred) > best_f1:\n",
    "            best_f1 = f1_score(y_test,y_pred)\n",
    "            best_c = C\n",
    "            best_gamma = gamma\n",
    "print(\"F1 Score for RBF SVM is\",best_f1)"
   ]
  },
  {
   "cell_type": "markdown",
   "metadata": {},
   "source": [
    "#### Generate answer.txt"
   ]
  },
  {
   "cell_type": "code",
   "execution_count": 10,
   "metadata": {},
   "outputs": [],
   "source": [
    "make_prediction(svm_rbf)"
   ]
  },
  {
   "cell_type": "markdown",
   "metadata": {},
   "source": [
    "Final Prediction Result: \n",
    "Precision: 0.500277932184547\n",
    "Recall:    1\n",
    "F1 Score:  0.6669136717302705"
   ]
  },
  {
   "cell_type": "markdown",
   "metadata": {
    "id": "eIiihAes0OkB"
   },
   "source": [
    "### Random Forest"
   ]
  },
  {
   "cell_type": "code",
   "execution_count": 11,
   "metadata": {
    "colab": {
     "base_uri": "https://localhost:8080/"
    },
    "id": "aNzLrgtO0OkC",
    "outputId": "13c3c7ed-528d-40ef-be2a-b288928625f7"
   },
   "outputs": [
    {
     "name": "stdout",
     "output_type": "stream",
     "text": [
      "F1 Score for Random Forest is 0.7321578505457599\n"
     ]
    }
   ],
   "source": [
    "best_f1, best_n = 0, 0\n",
    "for n_est in range(10,100,2):\n",
    "    clf_rf = RandomForestClassifier(max_depth = 3, random_state=0, n_estimators = n_est)\n",
    "    clf_rf.fit(X_train, y_train)\n",
    "    y_pred = clf_rf.predict(X_test)\n",
    "    if f1_score(y_test,y_pred) > best_f1:\n",
    "        best_f1 = f1_score(y_test,y_pred)\n",
    "        best_n = n_est\n",
    "print(\"F1 Score for Random Forest is\",best_f1)"
   ]
  },
  {
   "cell_type": "code",
   "execution_count": 12,
   "metadata": {},
   "outputs": [],
   "source": [
    "make_prediction(clf_rf)"
   ]
  },
  {
   "cell_type": "markdown",
   "metadata": {},
   "source": [
    "Final Prediction Result: \n",
    "Precision: 0.5672609400324149\n",
    "Recall:    0.7777777777777778\n",
    "F1 Score:  0.6560449859418931"
   ]
  },
  {
   "cell_type": "markdown",
   "metadata": {
    "id": "8eF-0kLJ0OkG"
   },
   "source": [
    "### XGBoost"
   ]
  },
  {
   "cell_type": "code",
   "execution_count": 13,
   "metadata": {
    "colab": {
     "base_uri": "https://localhost:8080/"
    },
    "id": "BAwNsjkS0OkH",
    "outputId": "01f1703f-d035-4e6d-af92-4651227c8e09"
   },
   "outputs": [
    {
     "name": "stdout",
     "output_type": "stream",
     "text": [
      "F1 Score for XGBoost is 0.7440585009140768\n"
     ]
    }
   ],
   "source": [
    "xgboost_model = XGBClassifier()\n",
    "xgboost_model.fit(X_train, y_train)\n",
    "y_pred = xgboost_model.predict(X_test)\n",
    "best_f1 = f1_score(y_test,y_pred)\n",
    "print(\"F1 Score for XGBoost is\",best_f1)"
   ]
  },
  {
   "cell_type": "code",
   "execution_count": 14,
   "metadata": {},
   "outputs": [],
   "source": [
    "make_prediction(xgboost_model)"
   ]
  },
  {
   "cell_type": "markdown",
   "metadata": {},
   "source": [
    "Final Prediction Result: \n",
    "Precision: 0.5838198498748958\n",
    "Recall:    0.7777777777777778\n",
    "F1 Score:  0.6669842782277275"
   ]
  },
  {
   "cell_type": "markdown",
   "metadata": {
    "id": "q1jUYFje0OkL"
   },
   "source": [
    "### Logistic Regression"
   ]
  },
  {
   "cell_type": "code",
   "execution_count": 15,
   "metadata": {
    "colab": {
     "base_uri": "https://localhost:8080/"
    },
    "id": "jGxDMb8j0OkL",
    "outputId": "4a1fad60-fed2-46f6-cc60-f65d29d4c632"
   },
   "outputs": [
    {
     "name": "stdout",
     "output_type": "stream",
     "text": [
      "F1 Score for Logistic Regression is 0.7566089334548769\n"
     ]
    }
   ],
   "source": [
    "C_range = [0.01, 0.1, 1, 10, 100]\n",
    "best_f1, best_c = 0, 0\n",
    "for C in C_range:\n",
    "    clf_lr = LogisticRegression(random_state=0, solver='liblinear', C=C).fit(X_train, y_train)\n",
    "    clf_lr.fit(X_train, y_train)\n",
    "    y_pred = clf_lr.predict(X_test)\n",
    "    if f1_score(y_test,y_pred) > best_f1:\n",
    "        best_f1 = f1_score(y_test,y_pred)\n",
    "        best_c = C\n",
    "print(\"F1 Score for Logistic Regression is\", best_f1)"
   ]
  },
  {
   "cell_type": "code",
   "execution_count": 16,
   "metadata": {},
   "outputs": [],
   "source": [
    "make_prediction(clf_lr)"
   ]
  },
  {
   "cell_type": "markdown",
   "metadata": {},
   "source": [
    "Final Prediction Result: \n",
    "Precision: 0.5896180215475024\n",
    "Recall:    0.6688888888888889\n",
    "F1 Score:  0.6267568974492451"
   ]
  },
  {
   "cell_type": "markdown",
   "metadata": {
    "id": "ts2p2SvB0OkP"
   },
   "source": [
    "## Part 3: Deep Learning Models"
   ]
  },
  {
   "cell_type": "markdown",
   "metadata": {
    "id": "1Yg8XBQ30OkT"
   },
   "source": [
    "### CNN"
   ]
  },
  {
   "cell_type": "code",
   "execution_count": 17,
   "metadata": {
    "id": "tBTmZCqb0OkU"
   },
   "outputs": [],
   "source": [
    "def create_model(xtrain, ytrain):\n",
    "    model=Sequential()\n",
    "    model.add(Conv1D(32,1,input_shape=xtrain.shape[1:]))\n",
    "    model.add(Activation(\"relu\"))\n",
    "    model.add(MaxPooling1D(pool_size=3))\n",
    "    model.add(Conv1D(32,1))\n",
    "    model.add(Activation(\"relu\"))\n",
    "    model.add(MaxPooling1D(pool_size=3))\n",
    "    model.add(Flatten())\n",
    "    model.add(Dense(32))\n",
    "    model.add(Activation(\"relu\"))\n",
    "    model.add(Dense(1, activation='sigmoid'))    \n",
    "    return model"
   ]
  },
  {
   "cell_type": "code",
   "execution_count": 18,
   "metadata": {
    "id": "EzJ8sCdQ0Oka"
   },
   "outputs": [],
   "source": [
    "# Parameters\n",
    "EPOCHS=50\n",
    "BATCH_SIZE=64"
   ]
  },
  {
   "cell_type": "code",
   "execution_count": 19,
   "metadata": {
    "id": "EXR_klIR0Okf"
   },
   "outputs": [],
   "source": [
    "xtrain = np.array(X_train.toarray()).reshape(X_train.shape[0],X_train.shape[1],1)\n",
    "ytrain=np.array(y_train)\n",
    "xtest = np.array(X_test.toarray()).reshape(X_test.shape[0],X_test.shape[1],1)"
   ]
  },
  {
   "cell_type": "code",
   "execution_count": 20,
   "metadata": {
    "colab": {
     "base_uri": "https://localhost:8080/"
    },
    "id": "03d1wLg90Okj",
    "outputId": "6fcac462-d3fc-4161-bfdd-a0749df026e2"
   },
   "outputs": [
    {
     "name": "stdout",
     "output_type": "stream",
     "text": [
      "WARNING:tensorflow:From C:\\Users\\rayyu\\AppData\\Local\\Continuum\\anaconda3\\envs\\ml\\lib\\site-packages\\tensorflow\\python\\framework\\op_def_library.py:263: colocate_with (from tensorflow.python.framework.ops) is deprecated and will be removed in a future version.\n",
      "Instructions for updating:\n",
      "Colocations handled automatically by placer.\n",
      "WARNING:tensorflow:From C:\\Users\\rayyu\\AppData\\Local\\Continuum\\anaconda3\\envs\\ml\\lib\\site-packages\\tensorflow\\python\\ops\\math_ops.py:3066: to_int32 (from tensorflow.python.ops.math_ops) is deprecated and will be removed in a future version.\n",
      "Instructions for updating:\n",
      "Use tf.cast instead.\n",
      "Train on 4000 samples, validate on 1000 samples\n",
      "Epoch 1/50\n",
      "4000/4000 [==============================] - 18s 5ms/step - loss: 0.6917 - acc: 0.5277 - val_loss: 0.6908 - val_acc: 0.5530\n",
      "Epoch 2/50\n",
      "4000/4000 [==============================] - 18s 5ms/step - loss: 0.6887 - acc: 0.5790 - val_loss: 0.6883 - val_acc: 0.5650\n",
      "Epoch 3/50\n",
      "4000/4000 [==============================] - 18s 5ms/step - loss: 0.6846 - acc: 0.6195 - val_loss: 0.6842 - val_acc: 0.6190\n",
      "Epoch 4/50\n",
      "4000/4000 [==============================] - 19s 5ms/step - loss: 0.6787 - acc: 0.6933 - val_loss: 0.6791 - val_acc: 0.6700\n",
      "Epoch 5/50\n",
      "4000/4000 [==============================] - 18s 4ms/step - loss: 0.6721 - acc: 0.7340 - val_loss: 0.6739 - val_acc: 0.6900\n",
      "Epoch 6/50\n",
      "4000/4000 [==============================] - 19s 5ms/step - loss: 0.6655 - acc: 0.7375 - val_loss: 0.6687 - val_acc: 0.6930\n",
      "Epoch 7/50\n",
      "4000/4000 [==============================] - 18s 4ms/step - loss: 0.6588 - acc: 0.7463 - val_loss: 0.6636 - val_acc: 0.6990\n",
      "Epoch 8/50\n",
      "4000/4000 [==============================] - 18s 4ms/step - loss: 0.6521 - acc: 0.7470 - val_loss: 0.6585 - val_acc: 0.7020\n",
      "Epoch 9/50\n",
      "4000/4000 [==============================] - 18s 5ms/step - loss: 0.6456 - acc: 0.7498 - val_loss: 0.6536 - val_acc: 0.7050\n",
      "Epoch 10/50\n",
      "4000/4000 [==============================] - 18s 4ms/step - loss: 0.6393 - acc: 0.7537 - val_loss: 0.6489 - val_acc: 0.6950\n",
      "Epoch 11/50\n",
      "4000/4000 [==============================] - 18s 4ms/step - loss: 0.6330 - acc: 0.7512 - val_loss: 0.6441 - val_acc: 0.7080\n",
      "Epoch 12/50\n",
      "4000/4000 [==============================] - 18s 5ms/step - loss: 0.6267 - acc: 0.7565 - val_loss: 0.6395 - val_acc: 0.7080\n",
      "Epoch 13/50\n",
      "4000/4000 [==============================] - 18s 5ms/step - loss: 0.6205 - acc: 0.7570 - val_loss: 0.6350 - val_acc: 0.7140\n",
      "Epoch 14/50\n",
      "4000/4000 [==============================] - 18s 5ms/step - loss: 0.6144 - acc: 0.7550 - val_loss: 0.6307 - val_acc: 0.7080\n",
      "Epoch 15/50\n",
      "4000/4000 [==============================] - 18s 5ms/step - loss: 0.6083 - acc: 0.7595 - val_loss: 0.6264 - val_acc: 0.7040\n",
      "Epoch 16/50\n",
      "4000/4000 [==============================] - 18s 4ms/step - loss: 0.6027 - acc: 0.7610 - val_loss: 0.6224 - val_acc: 0.7110\n",
      "Epoch 17/50\n",
      "4000/4000 [==============================] - 18s 4ms/step - loss: 0.5969 - acc: 0.7618 - val_loss: 0.6184 - val_acc: 0.7110\n",
      "Epoch 18/50\n",
      "4000/4000 [==============================] - 18s 4ms/step - loss: 0.5914 - acc: 0.7615 - val_loss: 0.6148 - val_acc: 0.7120\n",
      "Epoch 19/50\n",
      "4000/4000 [==============================] - 18s 5ms/step - loss: 0.5864 - acc: 0.7660 - val_loss: 0.6113 - val_acc: 0.7110\n",
      "Epoch 20/50\n",
      "4000/4000 [==============================] - 19s 5ms/step - loss: 0.5803 - acc: 0.7670 - val_loss: 0.6078 - val_acc: 0.7060\n",
      "Epoch 21/50\n",
      "4000/4000 [==============================] - 18s 4ms/step - loss: 0.5754 - acc: 0.7615 - val_loss: 0.6045 - val_acc: 0.7120\n",
      "Epoch 22/50\n",
      "4000/4000 [==============================] - 18s 5ms/step - loss: 0.5710 - acc: 0.7652 - val_loss: 0.6012 - val_acc: 0.7090\n",
      "Epoch 23/50\n",
      "4000/4000 [==============================] - 19s 5ms/step - loss: 0.5656 - acc: 0.7640 - val_loss: 0.5980 - val_acc: 0.7120\n",
      "Epoch 24/50\n",
      "4000/4000 [==============================] - 19s 5ms/step - loss: 0.5608 - acc: 0.7710 - val_loss: 0.5952 - val_acc: 0.7170\n",
      "Epoch 25/50\n",
      "4000/4000 [==============================] - 18s 4ms/step - loss: 0.5564 - acc: 0.7670 - val_loss: 0.5923 - val_acc: 0.7160\n",
      "Epoch 26/50\n",
      "4000/4000 [==============================] - 18s 4ms/step - loss: 0.5517 - acc: 0.7712 - val_loss: 0.5898 - val_acc: 0.7170\n",
      "Epoch 27/50\n",
      "4000/4000 [==============================] - 18s 4ms/step - loss: 0.5475 - acc: 0.7698 - val_loss: 0.5872 - val_acc: 0.7160\n",
      "Epoch 28/50\n",
      "4000/4000 [==============================] - 18s 5ms/step - loss: 0.5430 - acc: 0.7720 - val_loss: 0.5849 - val_acc: 0.7130\n",
      "Epoch 29/50\n",
      "4000/4000 [==============================] - 18s 4ms/step - loss: 0.5391 - acc: 0.7732 - val_loss: 0.5825 - val_acc: 0.7160\n",
      "Epoch 30/50\n",
      "4000/4000 [==============================] - 19s 5ms/step - loss: 0.5350 - acc: 0.7747 - val_loss: 0.5804 - val_acc: 0.7180\n",
      "Epoch 31/50\n",
      "4000/4000 [==============================] - 18s 5ms/step - loss: 0.5311 - acc: 0.7752 - val_loss: 0.5784 - val_acc: 0.7220\n",
      "Epoch 32/50\n",
      "4000/4000 [==============================] - 20s 5ms/step - loss: 0.5273 - acc: 0.7762 - val_loss: 0.5764 - val_acc: 0.7190\n",
      "Epoch 33/50\n",
      "4000/4000 [==============================] - 20s 5ms/step - loss: 0.5239 - acc: 0.7758 - val_loss: 0.5746 - val_acc: 0.7230\n",
      "Epoch 34/50\n",
      "4000/4000 [==============================] - 18s 5ms/step - loss: 0.5202 - acc: 0.7770 - val_loss: 0.5732 - val_acc: 0.7160\n",
      "Epoch 35/50\n",
      "4000/4000 [==============================] - 18s 5ms/step - loss: 0.5166 - acc: 0.7777 - val_loss: 0.5712 - val_acc: 0.7200\n",
      "Epoch 36/50\n",
      "4000/4000 [==============================] - 20s 5ms/step - loss: 0.5131 - acc: 0.7775 - val_loss: 0.5696 - val_acc: 0.7250\n",
      "Epoch 37/50\n",
      "4000/4000 [==============================] - 19s 5ms/step - loss: 0.5097 - acc: 0.7765 - val_loss: 0.5689 - val_acc: 0.7210\n",
      "Epoch 38/50\n",
      "4000/4000 [==============================] - 20s 5ms/step - loss: 0.5068 - acc: 0.7878 - val_loss: 0.5672 - val_acc: 0.7220\n",
      "Epoch 39/50\n",
      "4000/4000 [==============================] - 19s 5ms/step - loss: 0.5037 - acc: 0.7800 - val_loss: 0.5655 - val_acc: 0.7230\n",
      "Epoch 40/50\n",
      "4000/4000 [==============================] - 18s 5ms/step - loss: 0.5004 - acc: 0.7823 - val_loss: 0.5643 - val_acc: 0.7220\n",
      "Epoch 41/50\n",
      "4000/4000 [==============================] - 19s 5ms/step - loss: 0.4972 - acc: 0.7845 - val_loss: 0.5632 - val_acc: 0.7230\n",
      "Epoch 42/50\n",
      "4000/4000 [==============================] - 19s 5ms/step - loss: 0.4942 - acc: 0.7815 - val_loss: 0.5624 - val_acc: 0.7170\n",
      "Epoch 43/50\n",
      "4000/4000 [==============================] - 18s 5ms/step - loss: 0.4914 - acc: 0.7855 - val_loss: 0.5612 - val_acc: 0.7230\n",
      "Epoch 44/50\n",
      "4000/4000 [==============================] - 18s 5ms/step - loss: 0.4889 - acc: 0.7830 - val_loss: 0.5602 - val_acc: 0.7210\n",
      "Epoch 45/50\n",
      "4000/4000 [==============================] - 18s 5ms/step - loss: 0.4859 - acc: 0.7840 - val_loss: 0.5597 - val_acc: 0.7230\n",
      "Epoch 46/50\n",
      "4000/4000 [==============================] - 18s 5ms/step - loss: 0.4833 - acc: 0.7837 - val_loss: 0.5587 - val_acc: 0.7170\n",
      "Epoch 47/50\n",
      "4000/4000 [==============================] - 18s 5ms/step - loss: 0.4805 - acc: 0.7867 - val_loss: 0.5581 - val_acc: 0.7220\n",
      "Epoch 48/50\n",
      "4000/4000 [==============================] - 18s 4ms/step - loss: 0.4781 - acc: 0.7857 - val_loss: 0.5571 - val_acc: 0.7180\n",
      "Epoch 49/50\n",
      "4000/4000 [==============================] - 18s 4ms/step - loss: 0.4754 - acc: 0.7850 - val_loss: 0.5566 - val_acc: 0.7180\n",
      "Epoch 50/50\n",
      "4000/4000 [==============================] - 18s 5ms/step - loss: 0.4728 - acc: 0.7867 - val_loss: 0.5560 - val_acc: 0.7180\n"
     ]
    }
   ],
   "source": [
    "# Train Model\n",
    "cnn_model=create_model(xtrain,ytrain)\n",
    "cnn_model.compile(loss='binary_crossentropy',\n",
    "         optimizer=keras.optimizers.Adam(lr=0.00001, epsilon=1e-06),\n",
    "         metrics=['accuracy'])\n",
    "cnn_hist=cnn_model.fit(xtrain,ytrain,batch_size=BATCH_SIZE,epochs=EPOCHS,validation_data=(xtest,y_test))"
   ]
  },
  {
   "cell_type": "code",
   "execution_count": 21,
   "metadata": {
    "id": "JlB-HOpZ0Okn"
   },
   "outputs": [],
   "source": [
    "#If using colab, set colab=True. If running at local, set colab=False\n",
    "def show_metrics(r,colab=False):\n",
    "    _,axes=plt.subplots(1,2,figsize=(15,5))\n",
    "    axes[0].plot(r.history['loss'], label='Train Loss')\n",
    "    axes[0].plot(r.history['val_loss'], label='Val Loss')\n",
    "    axes[0].legend()\n",
    "    axes[0].set_title('Loss')\n",
    "    if colab==False:\n",
    "        axes[1].plot(r.history['acc'], label='Train Acc')\n",
    "        axes[1].plot(r.history['val_acc'], label='Val Acc')\n",
    "        axes[1].legend()\n",
    "        axes[1].set_title('Acc')\n",
    "    else:\n",
    "        axes[1].plot(r.history['accuracy'], label='Train Acc')\n",
    "        axes[1].plot(r.history['val_accuracy'], label='Val Acc')\n",
    "        axes[1].legend()\n",
    "        axes[1].set_title('Accuracy')"
   ]
  },
  {
   "cell_type": "code",
   "execution_count": 22,
   "metadata": {
    "colab": {
     "base_uri": "https://localhost:8080/",
     "height": 336
    },
    "id": "-66LHyer0Okq",
    "outputId": "3d153b64-02f7-4654-c2c2-3ae44444fee7",
    "scrolled": true
   },
   "outputs": [
    {
     "data": {
      "image/png": "[encoded data removed]",
      "text/plain": [
       "<Figure size 1080x360 with 2 Axes>"
      ]
     },
     "metadata": {
      "needs_background": "light"
     },
     "output_type": "display_data"
    }
   ],
   "source": [
    "show_metrics(cnn_hist)"
   ]
  },
  {
   "cell_type": "code",
   "execution_count": 23,
   "metadata": {
    "colab": {
     "base_uri": "https://localhost:8080/"
    },
    "id": "SlNyHUaX0Oks",
    "outputId": "2d54eebe-adad-4a85-f8b6-323fec45ae02"
   },
   "outputs": [
    {
     "name": "stdout",
     "output_type": "stream",
     "text": [
      "F1 Score for CNN is 0.7354596622889307\n"
     ]
    }
   ],
   "source": [
    "y_pred = cnn_model.predict(xtest)\n",
    "y_pred = np.where(y_pred>0.5,1,0)\n",
    "print(\"F1 Score for CNN is\", f1_score(y_pred,y_test))"
   ]
  },
  {
   "cell_type": "code",
   "execution_count": 24,
   "metadata": {},
   "outputs": [],
   "source": [
    "make_prediction(cnn_model,cnn=True)"
   ]
  },
  {
   "cell_type": "markdown",
   "metadata": {},
   "source": [
    "Final Prediction Result:\n",
    "Precision: 0.6003521126760564\n",
    "Recall:    0.7577777777777778\n",
    "F1 Score:  0.6699410609037328"
   ]
  },
  {
   "cell_type": "markdown",
   "metadata": {
    "id": "3N2Ed3ME0Okv"
   },
   "source": [
    "### RNN + LSTM"
   ]
  },
  {
   "cell_type": "code",
   "execution_count": 25,
   "metadata": {
    "id": "5KGsxFB2nkLR"
   },
   "outputs": [],
   "source": [
    "xtrain = np.array(X_train.toarray()).reshape(X_train.shape[0],1,X_train.shape[1])\n",
    "xtest = np.array(X_test.toarray()).reshape(X_test.shape[0],1,X_test.shape[1])"
   ]
  },
  {
   "cell_type": "code",
   "execution_count": 26,
   "metadata": {
    "id": "VHBpNFP80Okw"
   },
   "outputs": [],
   "source": [
    "def create_model_rnn(xtrain):\n",
    "    model=Sequential()\n",
    "    model.add(LSTM(256, input_shape=(xtrain.shape[1:]), return_sequences=True))\n",
    "    model.add(Dropout(0.3))\n",
    "    model.add(BatchNormalization())\n",
    "\n",
    "    model.add(LSTM(256, return_sequences=True))\n",
    "    model.add(Dropout(0.3))\n",
    "    model.add(BatchNormalization())\n",
    "\n",
    "    model.add(LSTM(256))\n",
    "    model.add(Dropout(0.3))\n",
    "    model.add(BatchNormalization())\n",
    "\n",
    "    model.add(Dense(32, activation=\"relu\"))\n",
    "    model.add(Dense(1, activation=\"sigmoid\"))\n",
    "    return model"
   ]
  },
  {
   "cell_type": "code",
   "execution_count": 27,
   "metadata": {
    "colab": {
     "base_uri": "https://localhost:8080/"
    },
    "id": "OfcCQv8L0Okz",
    "outputId": "82ea2cb7-e7da-4278-983c-d94e9ddbb4eb"
   },
   "outputs": [
    {
     "name": "stdout",
     "output_type": "stream",
     "text": [
      "WARNING:tensorflow:From C:\\Users\\rayyu\\AppData\\Local\\Continuum\\anaconda3\\envs\\ml\\lib\\site-packages\\keras\\backend\\tensorflow_backend.py:3445: calling dropout (from tensorflow.python.ops.nn_ops) with keep_prob is deprecated and will be removed in a future version.\n",
      "Instructions for updating:\n",
      "Please use `rate` instead of `keep_prob`. Rate should be set to `rate = 1 - keep_prob`.\n",
      "Train on 4000 samples, validate on 1000 samples\n",
      "Epoch 1/5\n",
      "4000/4000 [==============================] - 22s 6ms/step - loss: 0.7535 - acc: 0.5703 - val_loss: 0.6264 - val_acc: 0.6460\n",
      "Epoch 2/5\n",
      "4000/4000 [==============================] - 17s 4ms/step - loss: 0.6029 - acc: 0.6763 - val_loss: 0.5836 - val_acc: 0.6910\n",
      "Epoch 3/5\n",
      "4000/4000 [==============================] - 17s 4ms/step - loss: 0.4846 - acc: 0.7657 - val_loss: 0.5636 - val_acc: 0.7230\n",
      "Epoch 4/5\n",
      "4000/4000 [==============================] - 17s 4ms/step - loss: 0.3665 - acc: 0.8393 - val_loss: 0.5659 - val_acc: 0.7360\n",
      "Epoch 5/5\n",
      "4000/4000 [==============================] - 17s 4ms/step - loss: 0.2819 - acc: 0.8822 - val_loss: 0.5956 - val_acc: 0.7390\n"
     ]
    }
   ],
   "source": [
    "EPOCHS=5\n",
    "BATCH_SIZE = 64\n",
    "rnn_model=create_model_rnn(xtrain)\n",
    "rnn_model.compile(loss='binary_crossentropy',\n",
    "          optimizer=keras.optimizers.Adam(lr=1e-4, decay=1e-6),\n",
    "          metrics=['accuracy'])\n",
    "rnn_hist = rnn_model.fit(xtrain,y_train,batch_size=BATCH_SIZE,epochs=EPOCHS,validation_data=(xtest,y_test))"
   ]
  },
  {
   "cell_type": "code",
   "execution_count": 28,
   "metadata": {
    "colab": {
     "base_uri": "https://localhost:8080/",
     "height": 336
    },
    "id": "XPaXuFr74aso",
    "outputId": "dc0d8b03-ca36-4984-8f9c-34e34d9fa6ea"
   },
   "outputs": [
    {
     "data": {
      "image/png": "[encoded data removed]",
      "text/plain": [
       "<Figure size 1080x360 with 2 Axes>"
      ]
     },
     "metadata": {
      "needs_background": "light"
     },
     "output_type": "display_data"
    }
   ],
   "source": [
    "show_metrics(rnn_hist,colab=False)"
   ]
  },
  {
   "cell_type": "code",
   "execution_count": 29,
   "metadata": {
    "colab": {
     "base_uri": "https://localhost:8080/"
    },
    "id": "o8MQXW530Ok4",
    "outputId": "e6d7cf05-2315-42fa-f54f-691d30f12ac8"
   },
   "outputs": [
    {
     "name": "stdout",
     "output_type": "stream",
     "text": [
      "F1 Score for RNN is 0.7502392344497608\n"
     ]
    }
   ],
   "source": [
    "y_pred = rnn_model.predict(xtest)\n",
    "y_pred = np.where(y_pred>0.5,1,0)\n",
    "print(\"F1 Score for RNN is\", f1_score(y_pred,y_test))"
   ]
  },
  {
   "cell_type": "code",
   "execution_count": 30,
   "metadata": {},
   "outputs": [],
   "source": [
    "make_prediction(rnn_model,rnn=True)"
   ]
  },
  {
   "cell_type": "markdown",
   "metadata": {},
   "source": [
    "Final Prediction Result:\n",
    "Precision: 0.5967878275570583\n",
    "Recall:    0.7844444444444445\n",
    "F1 Score:  0.6778684589534325"
   ]
  }
 ],
 "metadata": {
  "accelerator": "GPU",
  "colab": {
   "collapsed_sections": [],
   "name": "Statistical Learning.ipynb",
   "provenance": []
  },
  "kernelspec": {
   "display_name": "Python 3",
   "language": "python",
   "name": "python3"
  },
  "language_info": {
   "codemirror_mode": {
    "name": "ipython",
    "version": 3
   },
   "file_extension": ".py",
   "mimetype": "text/x-python",
   "name": "python",
   "nbconvert_exporter": "python",
   "pygments_lexer": "ipython3",
   "version": "3.6.8"
  }
 },
 "nbformat": 4,
 "nbformat_minor": 1
}
